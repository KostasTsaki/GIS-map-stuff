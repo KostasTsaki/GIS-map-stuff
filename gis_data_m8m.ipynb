{
 "cells": [
  {
   "cell_type": "code",
   "execution_count": 1,
   "metadata": {},
   "outputs": [],
   "source": [
    "from shapely.geometry import Point, LineString, Polygon\n",
    "import folium"
   ]
  },
  {
   "cell_type": "code",
   "execution_count": 2,
   "metadata": {},
   "outputs": [
    {
     "data": {
      "text/plain": [
       "(array('d', [3.95]), array('d', [50.45]))"
      ]
     },
     "execution_count": 2,
     "metadata": {},
     "output_type": "execute_result"
    }
   ],
   "source": [
    "#point=Point(50.45, 3.95) #lat-long\n",
    "point=Point(3.95, 50.45) #long-lat\n",
    "point.xy"
   ]
  },
  {
   "cell_type": "code",
   "execution_count": 3,
   "metadata": {},
   "outputs": [
    {
     "data": {
      "text/plain": [
       "[3.95, 50.45]"
      ]
     },
     "execution_count": 3,
     "metadata": {},
     "output_type": "execute_result"
    }
   ],
   "source": [
    "# The last two is the same\n",
    "list(point.xy[0])[0]\n",
    "[list(point.xy)[i][0] for i in range(len(point.xy))]\n",
    "[point.xy[i].tolist()[0] for i in range(len(point.xy))]"
   ]
  },
  {
   "cell_type": "code",
   "execution_count": 4,
   "metadata": {},
   "outputs": [
    {
     "data": {
      "text/plain": [
       "3.95"
      ]
     },
     "execution_count": 4,
     "metadata": {},
     "output_type": "execute_result"
    }
   ],
   "source": [
    "point.x"
   ]
  },
  {
   "cell_type": "code",
   "execution_count": 5,
   "metadata": {
    "scrolled": true
   },
   "outputs": [
    {
     "data": {
      "text/html": [
       "<div style=\"width:100%;\"><div style=\"position:relative;width:100%;height:0;padding-bottom:60%;\"><iframe src=\"data:text/html;charset=utf-8;base64,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\" style=\"position:absolute;width:100%;height:100%;left:0;top:0;border:none !important;\" allowfullscreen webkitallowfullscreen mozallowfullscreen></iframe></div></div>"
      ],
      "text/plain": [
       "<folium.folium.Map at 0x7f75dc694780>"
      ]
     },
     "execution_count": 5,
     "metadata": {},
     "output_type": "execute_result"
    }
   ],
   "source": [
    "m=folium.Map(location=[50.4,3.9], tiles=\"openstreetmap\", zoom_start=10) #lat-long\n",
    "folium.Marker([point.y,point.x]).add_to(m)\n",
    "m"
   ]
  },
  {
   "cell_type": "code",
   "execution_count": 6,
   "metadata": {},
   "outputs": [
    {
     "name": "stdout",
     "output_type": "stream",
     "text": [
      "120260.72915196652\n",
      "126656.02174534462\n"
     ]
    }
   ],
   "source": [
    "import pyproj as proj\n",
    "crs_wgs = proj.Proj(init='epsg:4326')\n",
    "crs_lb72 = proj.Proj(init='epsg:31370') \n",
    "x,y=proj.transform(crs_wgs,crs_lb72,point.x, point.y, radians=False)\n",
    "print(x)\n",
    "print(y)"
   ]
  },
  {
   "cell_type": "code",
   "execution_count": 7,
   "metadata": {},
   "outputs": [
    {
     "name": "stdout",
     "output_type": "stream",
     "text": [
      "(3.9499999959667607, 50.450000002584275)\n"
     ]
    }
   ],
   "source": [
    "print(proj.transform(crs_lb72,crs_wgs,x,y, radians=False)) #check the reverse tranformation"
   ]
  },
  {
   "cell_type": "code",
   "execution_count": 8,
   "metadata": {
    "scrolled": true
   },
   "outputs": [
    {
     "data": {
      "text/html": [
       "<div style=\"width:100%;\"><div style=\"position:relative;width:100%;height:0;padding-bottom:60%;\"><iframe src=\"data:text/html;charset=utf-8;base64,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\" style=\"position:absolute;width:100%;height:100%;left:0;top:0;border:none !important;\" allowfullscreen webkitallowfullscreen mozallowfullscreen></iframe></div></div>"
      ],
      "text/plain": [
       "<folium.folium.Map at 0x7f75dc694780>"
      ]
     },
     "execution_count": 8,
     "metadata": {},
     "output_type": "execute_result"
    }
   ],
   "source": [
    "x2,y2=proj.transform(crs_lb72,crs_wgs,x,y, radians=False)\n",
    "point2=Point(y2, x2)\n",
    "folium.Marker([point2.y,point2.x]).add_to(m)\n",
    "m"
   ]
  },
  {
   "cell_type": "markdown",
   "metadata": {},
   "source": [
    "# List of points"
   ]
  },
  {
   "cell_type": "code",
   "execution_count": 9,
   "metadata": {},
   "outputs": [],
   "source": [
    "import pandas as pd\n",
    "df = pd.DataFrame(\n",
    "    {'Latitude': [51,52,53,34,23,12,0,90,34,5],\n",
    "     'Longitude': [4,5,6,16,34,48,0,5,63,18]})"
   ]
  },
  {
   "cell_type": "code",
   "execution_count": 10,
   "metadata": {},
   "outputs": [],
   "source": [
    "df['Coordinates'] = list(zip(df.Longitude, df.Latitude))"
   ]
  },
  {
   "cell_type": "code",
   "execution_count": 11,
   "metadata": {},
   "outputs": [
    {
     "data": {
      "text/plain": [
       "0     POINT (4 51)\n",
       "1     POINT (5 52)\n",
       "2     POINT (6 53)\n",
       "3    POINT (16 34)\n",
       "4    POINT (34 23)\n",
       "5    POINT (48 12)\n",
       "6      POINT (0 0)\n",
       "7     POINT (5 90)\n",
       "8    POINT (63 34)\n",
       "9     POINT (18 5)\n",
       "Name: Coordinates, dtype: object"
      ]
     },
     "execution_count": 11,
     "metadata": {},
     "output_type": "execute_result"
    }
   ],
   "source": [
    "df['Coordinates'].apply(Point)"
   ]
  },
  {
   "cell_type": "code",
   "execution_count": 12,
   "metadata": {},
   "outputs": [],
   "source": [
    "lat_max=df.Latitude.max()\n",
    "lat_min=df.Latitude.min()\n",
    "long_max=df.Longitude.max()\n",
    "long_min=df.Longitude.min()\n",
    "\n",
    "zoom=(lat_max-lat_min)-(long_max-long_min)"
   ]
  },
  {
   "cell_type": "code",
   "execution_count": 13,
   "metadata": {},
   "outputs": [],
   "source": [
    "lat_mean=df['Latitude'].mean()\n",
    "long_mean=df['Longitude'].mean()"
   ]
  },
  {
   "cell_type": "code",
   "execution_count": 14,
   "metadata": {
    "scrolled": true
   },
   "outputs": [
    {
     "data": {
      "text/plain": [
       "[<folium.map.Marker at 0x7f75e30a4828>,\n",
       " <folium.map.Marker at 0x7f75b1d0c208>,\n",
       " <folium.map.Marker at 0x7f75b1d0c0f0>,\n",
       " <folium.map.Marker at 0x7f75b1d0c128>,\n",
       " <folium.map.Marker at 0x7f75b1d0c160>,\n",
       " <folium.map.Marker at 0x7f75b1d0c080>,\n",
       " <folium.map.Marker at 0x7f75b1d0c240>,\n",
       " <folium.map.Marker at 0x7f75b1d0c278>,\n",
       " <folium.map.Marker at 0x7f75b1d0c2b0>,\n",
       " <folium.map.Marker at 0x7f75b1d0c2e8>]"
      ]
     },
     "execution_count": 14,
     "metadata": {},
     "output_type": "execute_result"
    }
   ],
   "source": [
    "newmap=folium.Map(location=[lat_mean,long_mean], tiles=\"openstreetmap\") #lat-long\n",
    "\n",
    "xx=[list(reversed(df.Coordinates[i])) for i in range(df.Coordinates.count())] # reverse lat-long\n",
    "[folium.Marker(xx[e]).add_to(newmap) for e in range(len(xx))]"
   ]
  },
  {
   "cell_type": "code",
   "execution_count": 15,
   "metadata": {},
   "outputs": [],
   "source": [
    "#mm=folium.Map(location=[lat_mean,long_mean], tiles=\"openstreetmap\", zoom_start=2) #lat-long-\n",
    "#[folium.Marker(xx[e]).add_to(newmap) for e in range(len(xx))]##\n",
    "\n"
   ]
  },
  {
   "cell_type": "code",
   "execution_count": 16,
   "metadata": {},
   "outputs": [
    {
     "data": {
      "text/html": [
       "<div style=\"width:100%;\"><div style=\"position:relative;width:100%;height:0;padding-bottom:60%;\"><iframe src=\"data:text/html;charset=utf-8;base64,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\" style=\"position:absolute;width:100%;height:100%;left:0;top:0;border:none !important;\" allowfullscreen webkitallowfullscreen mozallowfullscreen></iframe></div></div>"
      ],
      "text/plain": [
       "<folium.folium.Map at 0x7f75b1ceae48>"
      ]
     },
     "execution_count": 16,
     "metadata": {},
     "output_type": "execute_result"
    }
   ],
   "source": [
    "df\n",
    "newmap.fit_bounds(xx)\n",
    "newmap"
   ]
  },
  {
   "cell_type": "markdown",
   "metadata": {},
   "source": [
    "# CLUSTERS\n"
   ]
  },
  {
   "cell_type": "code",
   "execution_count": 17,
   "metadata": {},
   "outputs": [],
   "source": [
    "from folium.plugins import FastMarkerCluster, MarkerCluster"
   ]
  },
  {
   "cell_type": "code",
   "execution_count": 18,
   "metadata": {},
   "outputs": [],
   "source": [
    "newmap2=folium.Map(location=[lat_mean,long_mean], tiles=\"openstreetmap\") #lat-long\n",
    "\n",
    "mc =FastMarkerCluster(xx).add_to(newmap2) # using FastMarkerCluster you can import the list at once\n",
    "#mc =MarkerCluster().add_to(newmap2) # using MarkerCluster you can import the list point by point"
   ]
  },
  {
   "cell_type": "code",
   "execution_count": 19,
   "metadata": {},
   "outputs": [],
   "source": [
    "# ? FastMarkerCluster #to see the help"
   ]
  },
  {
   "cell_type": "code",
   "execution_count": 20,
   "metadata": {},
   "outputs": [],
   "source": [
    "#[folium.Marker(xx[e]).add_to(mc) for e in range(len(xx))] # using MarkerCluster you need to do it in a loop for each marker individualy"
   ]
  },
  {
   "cell_type": "code",
   "execution_count": 21,
   "metadata": {
    "scrolled": false
   },
   "outputs": [
    {
     "data": {
      "text/html": [
       "<div style=\"width:100%;\"><div style=\"position:relative;width:100%;height:0;padding-bottom:60%;\"><iframe src=\"data:text/html;charset=utf-8;base64,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\" style=\"position:absolute;width:100%;height:100%;left:0;top:0;border:none !important;\" allowfullscreen webkitallowfullscreen mozallowfullscreen></iframe></div></div>"
      ],
      "text/plain": [
       "<folium.folium.Map at 0x7f75b1a30e10>"
      ]
     },
     "execution_count": 21,
     "metadata": {},
     "output_type": "execute_result"
    }
   ],
   "source": [
    "newmap2.fit_bounds(xx)\n",
    "newmap2"
   ]
  },
  {
   "cell_type": "code",
   "execution_count": 22,
   "metadata": {},
   "outputs": [],
   "source": [
    "def wgs_to_bellamb72(pointX,pointY):\n",
    "    \"\"\"\n",
    "    :param pointX: The la\n",
    "    :param pointY: The long\n",
    "    \"\"\"\n",
    "    crs_wgs = proj.Proj(init='epsg:4326')\n",
    "    crs_lb72 = proj.Proj(init='epsg:31370') \n",
    "    x,y=proj.transform(crs_wgs,crs_lb72,pointX, pointY, radians=False)\n",
    "    return x,y"
   ]
  },
  {
   "cell_type": "code",
   "execution_count": 23,
   "metadata": {},
   "outputs": [
    {
     "data": {
      "text/plain": [
       "(123784.11681886965, 121075.75551512837)"
      ]
     },
     "execution_count": 23,
     "metadata": {},
     "output_type": "execute_result"
    }
   ],
   "source": [
    "wgs_to_bellamb72(4,50.4)"
   ]
  },
  {
   "cell_type": "code",
   "execution_count": 24,
   "metadata": {},
   "outputs": [
    {
     "name": "stdout",
     "output_type": "stream",
     "text": [
      "2.5747998734004796e-05\n",
      "3.2480020308867097e-06\n"
     ]
    }
   ],
   "source": [
    "import timeit\n",
    "lst= timeit.timeit(stmt=\"[1,2,3,4,5,6,7,8,9,0]\",number=90)\n",
    "tpl= timeit.timeit(stmt=\"(1,2,3,4,5,6,7,8,9,0)\",number=90)\n",
    "print (lst)\n",
    "print(tpl)"
   ]
  },
  {
   "cell_type": "code",
   "execution_count": 25,
   "metadata": {},
   "outputs": [],
   "source": [
    "class MyPoints:\n",
    "    \"\"\"Define the points. Also contains the method of conversion from wgs84 to bel-lamb72.\"\"\"\n",
    "    def __init__(self, lat, lon, z=None):\n",
    "        self.lat=lat\n",
    "        self.long=lon\n",
    "        self.z=z\n",
    "        \n",
    "    def wgs_to_bellamb72(self):\n",
    "        \"\"\"\n",
    "        Method of converting coordinates form wgs84 to belgian lambert 72\n",
    "        :param pointX: The la\n",
    "        :param pointY: The long\n",
    "        \"\"\"\n",
    "        crs_wgs = proj.Proj(init='epsg:4326')\n",
    "        crs_lb72 = proj.Proj(init='epsg:31370') \n",
    "        x,y=proj.transform(crs_wgs,crs_lb72,self.lat, self.long, radians=False)\n",
    "        return x,y\n",
    "   \n",
    "    def ApplyPoint(self):\n",
    "        pass\n",
    "\n",
    "    def get_collar(self):\n",
    "        self.collar=name\n",
    "        "
   ]
  },
  {
   "cell_type": "code",
   "execution_count": 26,
   "metadata": {},
   "outputs": [],
   "source": [
    "# Distance between two boreholes or electrodes?\n",
    "point_dist=lambda p1,p2: np.sqrt((p2.lat-p1.lat)**2+(p2.long-p1.long)**2+(p2.z-p1.z)**2)\n",
    "## It's a function, called like: point_dist(p1,p2)"
   ]
  },
  {
   "cell_type": "code",
   "execution_count": 27,
   "metadata": {},
   "outputs": [
    {
     "data": {
      "image/svg+xml": [
       "<svg xmlns=\"http://www.w3.org/2000/svg\" xmlns:xlink=\"http://www.w3.org/1999/xlink\" width=\"100.0\" height=\"100.0\" viewBox=\"50.08256 4.09856 0.038879999999998915 0.02287999999999979\" preserveAspectRatio=\"xMinYMin meet\"><g transform=\"matrix(1,0,0,-1,0,8.219999999999999)\"><polyline fill=\"none\" stroke=\"#66cc99\" stroke-width=\"0.0007775999999999784\" points=\"50.084,4.1 50.12,4.12\" opacity=\"0.8\" /></g></svg>"
      ],
      "text/plain": [
       "<shapely.geometry.linestring.LineString at 0x7f75b1a6d780>"
      ]
     },
     "execution_count": 27,
     "metadata": {},
     "output_type": "execute_result"
    }
   ],
   "source": [
    "p1=MyPoints(50.084,4.1,0.21)\n",
    "\n",
    "p2=MyPoints(50.12,4.12,-5.93)\n",
    "\n",
    "Point(p1.lat,p1.long)\n",
    "\n",
    "LineString([Point(p1.lat,p1.long),Point(p2.lat,p2.long)])\n"
   ]
  },
  {
   "cell_type": "code",
   "execution_count": 28,
   "metadata": {},
   "outputs": [],
   "source": [
    "p1=MyPoints(4,50.4)"
   ]
  },
  {
   "cell_type": "code",
   "execution_count": 29,
   "metadata": {},
   "outputs": [],
   "source": [
    "import numpy as np\n",
    "from folium.plugins import FastMarkerCluster\n",
    "class Points:\n",
    "    \"\"\"Define the points. Also contains the method of conversion from wgs84 to bel-lamb72.\"\"\"\n",
    "    def __init__(self, lat, lon):\n",
    "        self.lat=np.array(lat)\n",
    "        self.long=np.array(lon)\n",
    "   \n",
    "    def wgs_to_bellamb72(self):\n",
    "        \"\"\"Method of converting coordinates form wgs84 to belgian lambert 72.    \n",
    "        :returns: X,Y        \n",
    "        \"\"\"\n",
    "        crs_wgs = proj.Proj(init='epsg:4326')\n",
    "        crs_lb72 = proj.Proj(init='epsg:31370') \n",
    "        x,y=proj.transform(crs_wgs,crs_lb72,self.lat, self.long, radians=False)\n",
    "        return x,y\n",
    "\n",
    "    def mean_of_Points(self):\n",
    "        \"\"\"Method of converting coordinates form wgs84 to belgian lambert 72.    \n",
    "        :returns: Mean Lat and Mean Long        \n",
    "        \"\"\"\n",
    "        Lat_mean=np.mean(self.lat)\n",
    "        Long_mean=np.mean(self.long)\n",
    "        return Lat_mean, Long_mean\n",
    "    \n",
    "    def clusterisation(self,map_name):\n",
    "        mc =FastMarkerCluster([list(oi.lat),list(oi.long)]).add_to(map_name)"
   ]
  },
  {
   "cell_type": "code",
   "execution_count": 30,
   "metadata": {},
   "outputs": [],
   "source": [
    "import folium\n",
    "oi=Points([45,10],[20,25])\n",
    "latm,lonm=oi.mean_of_Points()\n",
    "newmap3=folium.Map(location=[latm,lonm], tiles=\"openstreetmap\") #lat-long\n"
   ]
  },
  {
   "cell_type": "code",
   "execution_count": 31,
   "metadata": {},
   "outputs": [],
   "source": [
    "oi.clusterisation(newmap3)\n"
   ]
  },
  {
   "cell_type": "code",
   "execution_count": 32,
   "metadata": {},
   "outputs": [],
   "source": [
    "newmap3.fit_bounds(xx)"
   ]
  },
  {
   "cell_type": "code",
   "execution_count": 33,
   "metadata": {
    "scrolled": true
   },
   "outputs": [
    {
     "data": {
      "text/html": [
       "<div style=\"width:100%;\"><div style=\"position:relative;width:100%;height:0;padding-bottom:60%;\"><iframe src=\"data:text/html;charset=utf-8;base64,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\" style=\"position:absolute;width:100%;height:100%;left:0;top:0;border:none !important;\" allowfullscreen webkitallowfullscreen mozallowfullscreen></iframe></div></div>"
      ],
      "text/plain": [
       "<folium.folium.Map at 0x7f75b19fe240>"
      ]
     },
     "execution_count": 33,
     "metadata": {},
     "output_type": "execute_result"
    }
   ],
   "source": [
    "newmap3"
   ]
  },
  {
   "cell_type": "code",
   "execution_count": 34,
   "metadata": {},
   "outputs": [],
   "source": [
    "import geopandas as gpd\n",
    "import pandas as pd"
   ]
  },
  {
   "cell_type": "code",
   "execution_count": 35,
   "metadata": {},
   "outputs": [],
   "source": [
    "brhs=pd.read_csv('brh.csv',delimiter=\"\\t\",header=None) #decimal=',' for changing the decimal point\n",
    "brhs=pd.read_csv('brh.csv',delimiter=\"\\t\",header=None,decimal=',')"
   ]
  },
  {
   "cell_type": "code",
   "execution_count": 36,
   "metadata": {},
   "outputs": [
    {
     "data": {
      "text/html": [
       "<div>\n",
       "<style scoped>\n",
       "    .dataframe tbody tr th:only-of-type {\n",
       "        vertical-align: middle;\n",
       "    }\n",
       "\n",
       "    .dataframe tbody tr th {\n",
       "        vertical-align: top;\n",
       "    }\n",
       "\n",
       "    .dataframe thead th {\n",
       "        text-align: right;\n",
       "    }\n",
       "</style>\n",
       "<table border=\"1\" class=\"dataframe\">\n",
       "  <thead>\n",
       "    <tr style=\"text-align: right;\">\n",
       "      <th></th>\n",
       "      <th>0</th>\n",
       "      <th>1</th>\n",
       "      <th>2</th>\n",
       "      <th>3</th>\n",
       "      <th>4</th>\n",
       "      <th>5</th>\n",
       "      <th>6</th>\n",
       "    </tr>\n",
       "  </thead>\n",
       "  <tbody>\n",
       "    <tr>\n",
       "      <th>0</th>\n",
       "      <td>F10</td>\n",
       "      <td>10</td>\n",
       "      <td>Sondes de chauffe &amp; monitoring</td>\n",
       "      <td>152884.68</td>\n",
       "      <td>122577.91</td>\n",
       "      <td>1.00</td>\n",
       "      <td>1.28</td>\n",
       "    </tr>\n",
       "    <tr>\n",
       "      <th>1</th>\n",
       "      <td>F11</td>\n",
       "      <td>11</td>\n",
       "      <td>Sondes de chauffe &amp; monitoring</td>\n",
       "      <td>152887.39</td>\n",
       "      <td>122576.63</td>\n",
       "      <td>3.71</td>\n",
       "      <td>0.00</td>\n",
       "    </tr>\n",
       "    <tr>\n",
       "      <th>2</th>\n",
       "      <td>F12</td>\n",
       "      <td>12</td>\n",
       "      <td>Sondes de chauffe &amp; monitoring</td>\n",
       "      <td>152888.51</td>\n",
       "      <td>122578.98</td>\n",
       "      <td>4.82</td>\n",
       "      <td>2.35</td>\n",
       "    </tr>\n",
       "    <tr>\n",
       "      <th>3</th>\n",
       "      <td>F13</td>\n",
       "      <td>13</td>\n",
       "      <td>Sondes de chauffe &amp; monitoring</td>\n",
       "      <td>152889.62</td>\n",
       "      <td>122581.32</td>\n",
       "      <td>5.93</td>\n",
       "      <td>4.70</td>\n",
       "    </tr>\n",
       "    <tr>\n",
       "      <th>4</th>\n",
       "      <td>F14</td>\n",
       "      <td>14</td>\n",
       "      <td>Sondes de chauffe &amp; monitoring</td>\n",
       "      <td>152887.03</td>\n",
       "      <td>122581.11</td>\n",
       "      <td>3.34</td>\n",
       "      <td>4.49</td>\n",
       "    </tr>\n",
       "    <tr>\n",
       "      <th>5</th>\n",
       "      <td>F15</td>\n",
       "      <td>15</td>\n",
       "      <td>Sondes de chauffe &amp; monitoring</td>\n",
       "      <td>152884.44</td>\n",
       "      <td>122580.90</td>\n",
       "      <td>0.75</td>\n",
       "      <td>4.28</td>\n",
       "    </tr>\n",
       "    <tr>\n",
       "      <th>6</th>\n",
       "      <td>F16</td>\n",
       "      <td>16</td>\n",
       "      <td>Sondes de chauffe &amp; monitoring</td>\n",
       "      <td>152887.15</td>\n",
       "      <td>122579.62</td>\n",
       "      <td>3.46</td>\n",
       "      <td>2.99</td>\n",
       "    </tr>\n",
       "    <tr>\n",
       "      <th>7</th>\n",
       "      <td>F20</td>\n",
       "      <td>20</td>\n",
       "      <td>Monitoring</td>\n",
       "      <td>152886.41</td>\n",
       "      <td>122578.05</td>\n",
       "      <td>2.72</td>\n",
       "      <td>1.43</td>\n",
       "    </tr>\n",
       "    <tr>\n",
       "      <th>8</th>\n",
       "      <td>F21</td>\n",
       "      <td>21</td>\n",
       "      <td>Monitoring</td>\n",
       "      <td>152888.14</td>\n",
       "      <td>122578.19</td>\n",
       "      <td>4.45</td>\n",
       "      <td>1.57</td>\n",
       "    </tr>\n",
       "    <tr>\n",
       "      <th>9</th>\n",
       "      <td>F22</td>\n",
       "      <td>22</td>\n",
       "      <td>Monitoring</td>\n",
       "      <td>152888.38</td>\n",
       "      <td>122580.47</td>\n",
       "      <td>4.70</td>\n",
       "      <td>3.84</td>\n",
       "    </tr>\n",
       "    <tr>\n",
       "      <th>10</th>\n",
       "      <td>F23</td>\n",
       "      <td>23</td>\n",
       "      <td>Monitoring</td>\n",
       "      <td>152888.26</td>\n",
       "      <td>122581.97</td>\n",
       "      <td>4.58</td>\n",
       "      <td>5.34</td>\n",
       "    </tr>\n",
       "    <tr>\n",
       "      <th>11</th>\n",
       "      <td>F24</td>\n",
       "      <td>24</td>\n",
       "      <td>Monitoring</td>\n",
       "      <td>152886.17</td>\n",
       "      <td>122581.04</td>\n",
       "      <td>2.48</td>\n",
       "      <td>4.42</td>\n",
       "    </tr>\n",
       "    <tr>\n",
       "      <th>12</th>\n",
       "      <td>F25</td>\n",
       "      <td>25</td>\n",
       "      <td>Monitoring</td>\n",
       "      <td>152885.42</td>\n",
       "      <td>122579.48</td>\n",
       "      <td>1.74</td>\n",
       "      <td>2.85</td>\n",
       "    </tr>\n",
       "    <tr>\n",
       "      <th>13</th>\n",
       "      <td>F30</td>\n",
       "      <td>30</td>\n",
       "      <td>Piezair</td>\n",
       "      <td>152887.89</td>\n",
       "      <td>122581.18</td>\n",
       "      <td>4.21</td>\n",
       "      <td>4.56</td>\n",
       "    </tr>\n",
       "    <tr>\n",
       "      <th>14</th>\n",
       "      <td>F31</td>\n",
       "      <td>31</td>\n",
       "      <td>Piezair</td>\n",
       "      <td>152885.92</td>\n",
       "      <td>122578.77</td>\n",
       "      <td>2.23</td>\n",
       "      <td>2.14</td>\n",
       "    </tr>\n",
       "    <tr>\n",
       "      <th>15</th>\n",
       "      <td>F32</td>\n",
       "      <td>32</td>\n",
       "      <td>Piezair</td>\n",
       "      <td>152885.67</td>\n",
       "      <td>122581.76</td>\n",
       "      <td>1.99</td>\n",
       "      <td>5.13</td>\n",
       "    </tr>\n",
       "    <tr>\n",
       "      <th>16</th>\n",
       "      <td>F40</td>\n",
       "      <td>40</td>\n",
       "      <td>Sondes temperature</td>\n",
       "      <td>152883.69</td>\n",
       "      <td>122577.83</td>\n",
       "      <td>0.00</td>\n",
       "      <td>1.20</td>\n",
       "    </tr>\n",
       "    <tr>\n",
       "      <th>17</th>\n",
       "      <td>F41</td>\n",
       "      <td>41</td>\n",
       "      <td>Sondes temperature</td>\n",
       "      <td>152884.25</td>\n",
       "      <td>122577.01</td>\n",
       "      <td>0.57</td>\n",
       "      <td>0.38</td>\n",
       "    </tr>\n",
       "  </tbody>\n",
       "</table>\n",
       "</div>"
      ],
      "text/plain": [
       "      0   1                               2          3          4     5     6\n",
       "0   F10  10  Sondes de chauffe & monitoring  152884.68  122577.91  1.00  1.28\n",
       "1   F11  11  Sondes de chauffe & monitoring  152887.39  122576.63  3.71  0.00\n",
       "2   F12  12  Sondes de chauffe & monitoring  152888.51  122578.98  4.82  2.35\n",
       "3   F13  13  Sondes de chauffe & monitoring  152889.62  122581.32  5.93  4.70\n",
       "4   F14  14  Sondes de chauffe & monitoring  152887.03  122581.11  3.34  4.49\n",
       "5   F15  15  Sondes de chauffe & monitoring  152884.44  122580.90  0.75  4.28\n",
       "6   F16  16  Sondes de chauffe & monitoring  152887.15  122579.62  3.46  2.99\n",
       "7   F20  20                      Monitoring  152886.41  122578.05  2.72  1.43\n",
       "8   F21  21                      Monitoring  152888.14  122578.19  4.45  1.57\n",
       "9   F22  22                      Monitoring  152888.38  122580.47  4.70  3.84\n",
       "10  F23  23                      Monitoring  152888.26  122581.97  4.58  5.34\n",
       "11  F24  24                      Monitoring  152886.17  122581.04  2.48  4.42\n",
       "12  F25  25                      Monitoring  152885.42  122579.48  1.74  2.85\n",
       "13  F30  30                         Piezair  152887.89  122581.18  4.21  4.56\n",
       "14  F31  31                         Piezair  152885.92  122578.77  2.23  2.14\n",
       "15  F32  32                         Piezair  152885.67  122581.76  1.99  5.13\n",
       "16  F40  40              Sondes temperature  152883.69  122577.83  0.00  1.20\n",
       "17  F41  41              Sondes temperature  152884.25  122577.01  0.57  0.38"
      ]
     },
     "execution_count": 36,
     "metadata": {},
     "output_type": "execute_result"
    }
   ],
   "source": [
    "#del brhs[5],brhs[6] #run once\n",
    "brhs"
   ]
  },
  {
   "cell_type": "code",
   "execution_count": 37,
   "metadata": {},
   "outputs": [],
   "source": [
    "crs_wgs = proj.Proj(init='epsg:4326')\n",
    "crs_lb72 = proj.Proj(init='epsg:31370') \n",
    "#x1,y1=proj.transform(crs_lb72,crs_wgs,float(brhs[4][0].replace(',','.')), float(brhs[3][0].replace(',','.')), radians=False)\n",
    "#x2,y2=proj.transform(crs_lb72,crs_wgs,float(brhs[3][0].replace(',','.')), float(brhs[4][0].replace(',','.')), radians=False)\n",
    "x2,y2=proj.transform(crs_lb72,crs_wgs,brhs[3][0],brhs[4][0])"
   ]
  },
  {
   "cell_type": "code",
   "execution_count": 38,
   "metadata": {},
   "outputs": [
    {
     "data": {
      "text/plain": [
       "[(50.414080653405016, 4.409333006301478),\n",
       " (50.41406913223102, 4.40937112558681),\n",
       " (50.41409025391428, 4.409386902218083),\n",
       " (50.414111285741996, 4.40940253808645),\n",
       " (50.414109410728315, 4.4093660954988465),\n",
       " (50.41410753570323, 4.409329652914125),\n",
       " (50.414096014530394, 4.40936777222187),\n",
       " (50.41408190340564, 4.409357348243474),\n",
       " (50.414083153401194, 4.4093816901867555),\n",
       " (50.4141036501625, 4.40938508480206),\n",
       " (50.41411713626402, 4.409383408161944),\n",
       " (50.414108785704556, 4.409353994869825),\n",
       " (50.414094764531946, 4.409343430272359),\n",
       " (50.414110035750824, 4.409378196128187),\n",
       " (50.414088378895684, 4.4093504596472535),\n",
       " (50.41411526124433, 4.409346965570604),\n",
       " (50.41407993912379, 4.409319076521122),\n",
       " (50.41407256425249, 4.4093269492281975)]"
      ]
     },
     "execution_count": 38,
     "metadata": {},
     "output_type": "execute_result"
    }
   ],
   "source": [
    "pop=[proj.transform(crs_lb72,crs_wgs,brhs[3][i],brhs[4][i]) for i in range(len(brhs))]\n",
    "pop=[pop[i][::-1] for i in range(len(pop))]\n",
    "pop"
   ]
  },
  {
   "cell_type": "code",
   "execution_count": 39,
   "metadata": {
    "scrolled": true
   },
   "outputs": [
    {
     "name": "stdout",
     "output_type": "stream",
     "text": [
      "50.414080653405016 4.409333006301478\n"
     ]
    }
   ],
   "source": [
    "#np.sqrt((x1-x2)**2+(y1-y2)**2)\n",
    "print(y2,x2)"
   ]
  },
  {
   "cell_type": "code",
   "execution_count": 40,
   "metadata": {},
   "outputs": [
    {
     "data": {
      "text/plain": [
       "<folium.features.LatLngPopup at 0x7f75a5fd92e8>"
      ]
     },
     "execution_count": 40,
     "metadata": {},
     "output_type": "execute_result"
    }
   ],
   "source": [
    "m24=folium.Map(location=[50.414,4.409], tiles=\"openstreetmap\", zoom_start=20, max_zoom=25) #lat-long\n",
    "folium.LatLngPopup().add_to(m24)"
   ]
  },
  {
   "cell_type": "code",
   "execution_count": 41,
   "metadata": {},
   "outputs": [],
   "source": [
    "\"\"\"\n",
    "\n",
    "\n",
    "callback = ('''\n",
    "function (row) {\n",
    "    //var circle = L.circle(new L.LatLng(row[0], row[1]),{color:\"red\",radius:0.1});\n",
    "    var marker = L.marker(new L.LatLng(row[0], row[1]))\n",
    "    var popup = L.popup().setContent('<p>Hello world!</p>');\n",
    "    marker.bindPopup(popup);\n",
    "    return marker;\n",
    "};\n",
    "''')\n",
    "\n",
    "\"\"\"\n",
    "\n",
    "\n",
    "\n",
    "\n",
    "\n",
    "\n",
    "callback = (\n",
    "'''\n",
    "function (row) {\n",
    "  // Get the checkbox\n",
    "   // var checkBox = document.getElementById(\"myCheck\");\n",
    "    var marker = L.marker(new L.LatLng(row[0], row[1]))\n",
    "    var popup = L.popup().setContent(string(row[0]));\n",
    "    marker.bindPopup(popup);\n",
    "    return marker;\n",
    "    }\n",
    "'''\n",
    ")\n",
    "\n",
    "\n",
    "\n"
   ]
  },
  {
   "cell_type": "code",
   "execution_count": 42,
   "metadata": {},
   "outputs": [
    {
     "data": {
      "text/plain": [
       "{'date': '2018-11-20T15:17:15-0200',\n",
       " 'dirty': False,\n",
       " 'error': None,\n",
       " 'full-revisionid': '48aa49e90d67d23ea3bfad65e13e3426b7197825',\n",
       " 'version': '0.7.0'}"
      ]
     },
     "execution_count": 42,
     "metadata": {},
     "output_type": "execute_result"
    }
   ],
   "source": [
    "folium._version.get_versions()"
   ]
  },
  {
   "cell_type": "code",
   "execution_count": 44,
   "metadata": {
    "scrolled": false
   },
   "outputs": [
    {
     "data": {
      "text/html": [
       "<div style=\"width:100%;\"><div style=\"position:relative;width:100%;height:0;padding-bottom:60%;\"><iframe src=\"data:text/html;charset=utf-8;base64,PCFET0NUWVBFIGh0bWw+CjxoZWFkPiAgICAKICAgIDxtZXRhIGh0dHAtZXF1aXY9ImNvbnRlbnQtdHlwZSIgY29udGVudD0idGV4dC9odG1sOyBjaGFyc2V0PVVURi04IiAvPgogICAgPHNjcmlwdD5MX1BSRUZFUl9DQU5WQVM9ZmFsc2U7IExfTk9fVE9VQ0g9ZmFsc2U7IExfRElTQUJMRV8zRD1mYWxzZTs8L3NjcmlwdD4KICAgIDxzY3JpcHQgc3JjPSJodHRwczovL2Nkbi5qc2RlbGl2ci5uZXQvbnBtL2xlYWZsZXRAMS4zLjQvZGlzdC9sZWFmbGV0LmpzIj48L3NjcmlwdD4KICAgIDxzY3JpcHQgc3JjPSJodHRwczovL2FqYXguZ29vZ2xlYXBpcy5jb20vYWpheC9saWJzL2pxdWVyeS8xLjExLjEvanF1ZXJ5Lm1pbi5qcyI+PC9zY3JpcHQ+CiAgICA8c2NyaXB0IHNyYz0iaHR0cHM6Ly9tYXhjZG4uYm9vdHN0cmFwY2RuLmNvbS9ib290c3RyYXAvMy4yLjAvanMvYm9vdHN0cmFwLm1pbi5qcyI+PC9zY3JpcHQ+CiAgICA8c2NyaXB0IHNyYz0iaHR0cHM6Ly9jZG5qcy5jbG91ZGZsYXJlLmNvbS9hamF4L2xpYnMvTGVhZmxldC5hd2Vzb21lLW1hcmtlcnMvMi4wLjIvbGVhZmxldC5hd2Vzb21lLW1hcmtlcnMuanMiPjwvc2NyaXB0PgogICAgPGxpbmsgcmVsPSJzdHlsZXNoZWV0IiBocmVmPSJodHRwczovL2Nkbi5qc2RlbGl2ci5uZXQvbnBtL2xlYWZsZXRAMS4zLjQvZGlzdC9sZWFmbGV0LmNzcyIvPgogICAgPGxpbmsgcmVsPSJzdHlsZXNoZWV0IiBocmVmPSJodHRwczovL21heGNkbi5ib290c3RyYXBjZG4uY29tL2Jvb3RzdHJhcC8zLjIuMC9jc3MvYm9vdHN0cmFwLm1pbi5jc3MiLz4KICAgIDxsaW5rIHJlbD0ic3R5bGVzaGVldCIgaHJlZj0iaHR0cHM6Ly9tYXhjZG4uYm9vdHN0cmFwY2RuLmNvbS9ib290c3RyYXAvMy4yLjAvY3NzL2Jvb3RzdHJhcC10aGVtZS5taW4uY3NzIi8+CiAgICA8bGluayByZWw9InN0eWxlc2hlZXQiIGhyZWY9Imh0dHBzOi8vbWF4Y2RuLmJvb3RzdHJhcGNkbi5jb20vZm9udC1hd2Vzb21lLzQuNi4zL2Nzcy9mb250LWF3ZXNvbWUubWluLmNzcyIvPgogICAgPGxpbmsgcmVsPSJzdHlsZXNoZWV0IiBocmVmPSJodHRwczovL2NkbmpzLmNsb3VkZmxhcmUuY29tL2FqYXgvbGlicy9MZWFmbGV0LmF3ZXNvbWUtbWFya2Vycy8yLjAuMi9sZWFmbGV0LmF3ZXNvbWUtbWFya2Vycy5jc3MiLz4KICAgIDxsaW5rIHJlbD0ic3R5bGVzaGVldCIgaHJlZj0iaHR0cHM6Ly9yYXdjZG4uZ2l0aGFjay5jb20vcHl0aG9uLXZpc3VhbGl6YXRpb24vZm9saXVtL21hc3Rlci9mb2xpdW0vdGVtcGxhdGVzL2xlYWZsZXQuYXdlc29tZS5yb3RhdGUuY3NzIi8+CiAgICA8c3R5bGU+aHRtbCwgYm9keSB7d2lkdGg6IDEwMCU7aGVpZ2h0OiAxMDAlO21hcmdpbjogMDtwYWRkaW5nOiAwO308L3N0eWxlPgogICAgPHN0eWxlPiNtYXAge3Bvc2l0aW9uOmFic29sdXRlO3RvcDowO2JvdHRvbTowO3JpZ2h0OjA7bGVmdDowO308L3N0eWxlPgogICAgCiAgICA8bWV0YSBuYW1lPSJ2aWV3cG9ydCIgY29udGVudD0id2lkdGg9ZGV2aWNlLXdpZHRoLAogICAgICAgIGluaXRpYWwtc2NhbGU9MS4wLCBtYXhpbXVtLXNjYWxlPTEuMCwgdXNlci1zY2FsYWJsZT1ubyIgLz4KICAgIDxzdHlsZT4jbWFwXzFmZjQ0NzRiNDYxODQ5MzlhYTljZTU0YjEwNTk2M2M1IHsKICAgICAgICBwb3NpdGlvbjogcmVsYXRpdmU7CiAgICAgICAgd2lkdGg6IDEwMC4wJTsKICAgICAgICBoZWlnaHQ6IDEwMC4wJTsKICAgICAgICBsZWZ0OiAwLjAlOwogICAgICAgIHRvcDogMC4wJTsKICAgICAgICB9CiAgICA8L3N0eWxlPgogICAgPHNjcmlwdCBzcmM9Imh0dHBzOi8vY2RuanMuY2xvdWRmbGFyZS5jb20vYWpheC9saWJzL2xlYWZsZXQubWFya2VyY2x1c3Rlci8xLjEuMC9sZWFmbGV0Lm1hcmtlcmNsdXN0ZXIuanMiPjwvc2NyaXB0PgogICAgPGxpbmsgcmVsPSJzdHlsZXNoZWV0IiBocmVmPSJodHRwczovL2NkbmpzLmNsb3VkZmxhcmUuY29tL2FqYXgvbGlicy9sZWFmbGV0Lm1hcmtlcmNsdXN0ZXIvMS4xLjAvTWFya2VyQ2x1c3Rlci5jc3MiLz4KICAgIDxsaW5rIHJlbD0ic3R5bGVzaGVldCIgaHJlZj0iaHR0cHM6Ly9jZG5qcy5jbG91ZGZsYXJlLmNvbS9hamF4L2xpYnMvbGVhZmxldC5tYXJrZXJjbHVzdGVyLzEuMS4wL01hcmtlckNsdXN0ZXIuRGVmYXVsdC5jc3MiLz4KPC9oZWFkPgo8Ym9keT4gICAgCiAgICAKICAgIDxkaXYgY2xhc3M9ImZvbGl1bS1tYXAiIGlkPSJtYXBfMWZmNDQ3NGI0NjE4NDkzOWFhOWNlNTRiMTA1OTYzYzUiID48L2Rpdj4KPC9ib2R5Pgo8c2NyaXB0PiAgICAKICAgIAogICAgCiAgICAgICAgdmFyIGJvdW5kcyA9IG51bGw7CiAgICAKCiAgICB2YXIgbWFwXzFmZjQ0NzRiNDYxODQ5MzlhYTljZTU0YjEwNTk2M2M1ID0gTC5tYXAoCiAgICAgICAgJ21hcF8xZmY0NDc0YjQ2MTg0OTM5YWE5Y2U1NGIxMDU5NjNjNScsIHsKICAgICAgICBjZW50ZXI6IFs1MC40MTQsIDQuNDA5XSwKICAgICAgICB6b29tOiAyMCwKICAgICAgICBtYXhCb3VuZHM6IGJvdW5kcywKICAgICAgICBsYXllcnM6IFtdLAogICAgICAgIHdvcmxkQ29weUp1bXA6IGZhbHNlLAogICAgICAgIGNyczogTC5DUlMuRVBTRzM4NTcsCiAgICAgICAgem9vbUNvbnRyb2w6IHRydWUsCiAgICAgICAgfSk7CgogICAgCiAgICAKICAgIHZhciB0aWxlX2xheWVyX2E1ZTVkMjlhOWZhZTQzNTQ5ZTNkZjgzMjBjYTczMjVjID0gTC50aWxlTGF5ZXIoCiAgICAgICAgJ2h0dHBzOi8ve3N9LnRpbGUub3BlbnN0cmVldG1hcC5vcmcve3p9L3t4fS97eX0ucG5nJywKICAgICAgICB7CiAgICAgICAgImF0dHJpYnV0aW9uIjogbnVsbCwKICAgICAgICAiZGV0ZWN0UmV0aW5hIjogZmFsc2UsCiAgICAgICAgIm1heE5hdGl2ZVpvb20iOiAyNSwKICAgICAgICAibWF4Wm9vbSI6IDI1LAogICAgICAgICJtaW5ab29tIjogMCwKICAgICAgICAibm9XcmFwIjogZmFsc2UsCiAgICAgICAgIm9wYWNpdHkiOiAxLAogICAgICAgICJzdWJkb21haW5zIjogImFiYyIsCiAgICAgICAgInRtcyI6IGZhbHNlCn0pLmFkZFRvKG1hcF8xZmY0NDc0YjQ2MTg0OTM5YWE5Y2U1NGIxMDU5NjNjNSk7CiAgICAKICAgICAgICAgICAgICAgIHZhciBsYXRfbG5nX3BvcHVwXzA1YzE2NDM0ZWNiZTQ2ODk4OWY4NWE0MzA3NDU3OGVkID0gTC5wb3B1cCgpOwogICAgICAgICAgICAgICAgZnVuY3Rpb24gbGF0TG5nUG9wKGUpIHsKICAgICAgICAgICAgICAgICAgICBsYXRfbG5nX3BvcHVwXzA1YzE2NDM0ZWNiZTQ2ODk4OWY4NWE0MzA3NDU3OGVkCiAgICAgICAgICAgICAgICAgICAgICAgIC5zZXRMYXRMbmcoZS5sYXRsbmcpCiAgICAgICAgICAgICAgICAgICAgICAgIC5zZXRDb250ZW50KCJMYXRpdHVkZTogIiArIGUubGF0bG5nLmxhdC50b0ZpeGVkKDQpICsKICAgICAgICAgICAgICAgICAgICAgICAgICAgICAgICAgICAgIjxicj5Mb25naXR1ZGU6ICIgKyBlLmxhdGxuZy5sbmcudG9GaXhlZCg0KSkKICAgICAgICAgICAgICAgICAgICAgICAgLm9wZW5PbihtYXBfMWZmNDQ3NGI0NjE4NDkzOWFhOWNlNTRiMTA1OTYzYzUpOwogICAgICAgICAgICAgICAgICAgIH0KICAgICAgICAgICAgICAgIG1hcF8xZmY0NDc0YjQ2MTg0OTM5YWE5Y2U1NGIxMDU5NjNjNS5vbignY2xpY2snLCBsYXRMbmdQb3ApOwogICAgICAgICAgICAKICAgIAoKICAgICAgICAgICAgdmFyIGZhc3RfbWFya2VyX2NsdXN0ZXJfOTcxOTM2NGVlYjM5NGQyZmFkZmI4YTgwMzg4MDhiNDggPSAoZnVuY3Rpb24oKXsKICAgICAgICAgICAgICAgIHZhciBjYWxsYmFjayA9IApmdW5jdGlvbiAocm93KSB7CiAgLy8gR2V0IHRoZSBjaGVja2JveAogICAvLyB2YXIgY2hlY2tCb3ggPSBkb2N1bWVudC5nZXRFbGVtZW50QnlJZCgibXlDaGVjayIpOwogICAgdmFyIG1hcmtlciA9IEwubWFya2VyKG5ldyBMLkxhdExuZyhyb3dbMF0sIHJvd1sxXSkpCiAgICB2YXIgcG9wdXAgPSBMLnBvcHVwKCkuc2V0Q29udGVudChzdHJpbmcocm93WzBdKSk7CiAgICBtYXJrZXIuYmluZFBvcHVwKHBvcHVwKTsKICAgIHJldHVybiBtYXJrZXI7CiAgICB9CjsKCiAgICAgICAgICAgICAgICB2YXIgZGF0YSA9IFtbNTAuNDE0MDgwNjUzNDA1MDE2LCA0LjQwOTMzMzAwNjMwMTQ3OF0sIFs1MC40MTQwNjkxMzIyMzEwMiwgNC40MDkzNzExMjU1ODY4MV0sIFs1MC40MTQwOTAyNTM5MTQyOCwgNC40MDkzODY5MDIyMTgwODNdLCBbNTAuNDE0MTExMjg1NzQxOTk2LCA0LjQwOTQwMjUzODA4NjQ1XSwgWzUwLjQxNDEwOTQxMDcyODMxNSwgNC40MDkzNjYwOTU0OTg4NDY1XSwgWzUwLjQxNDEwNzUzNTcwMzIzLCA0LjQwOTMyOTY1MjkxNDEyNV0sIFs1MC40MTQwOTYwMTQ1MzAzOTQsIDQuNDA5MzY3NzcyMjIxODddLCBbNTAuNDE0MDgxOTAzNDA1NjQsIDQuNDA5MzU3MzQ4MjQzNDc0XSwgWzUwLjQxNDA4MzE1MzQwMTE5NCwgNC40MDkzODE2OTAxODY3NTU1XSwgWzUwLjQxNDEwMzY1MDE2MjUsIDQuNDA5Mzg1MDg0ODAyMDZdLCBbNTAuNDE0MTE3MTM2MjY0MDIsIDQuNDA5MzgzNDA4MTYxOTQ0XSwgWzUwLjQxNDEwODc4NTcwNDU1NiwgNC40MDkzNTM5OTQ4Njk4MjVdLCBbNTAuNDE0MDk0NzY0NTMxOTQ2LCA0LjQwOTM0MzQzMDI3MjM1OV0sIFs1MC40MTQxMTAwMzU3NTA4MjQsIDQuNDA5Mzc4MTk2MTI4MTg3XSwgWzUwLjQxNDA4ODM3ODg5NTY4NCwgNC40MDkzNTA0NTk2NDcyNTM1XSwgWzUwLjQxNDExNTI2MTI0NDMzLCA0LjQwOTM0Njk2NTU3MDYwNF0sIFs1MC40MTQwNzk5MzkxMjM3OSwgNC40MDkzMTkwNzY1MjExMjJdLCBbNTAuNDE0MDcyNTY0MjUyNDksIDQuNDA5MzI2OTQ5MjI4MTk3NV1dOwogICAgICAgICAgICAgICAgdmFyIGNsdXN0ZXIgPSBMLm1hcmtlckNsdXN0ZXJHcm91cCh7fSk7CgogICAgICAgICAgICAgICAgZm9yICh2YXIgaSA9IDA7IGkgPCBkYXRhLmxlbmd0aDsgaSsrKSB7CiAgICAgICAgICAgICAgICAgICAgdmFyIHJvdyA9IGRhdGFbaV07CiAgICAgICAgICAgICAgICAgICAgdmFyIG1hcmtlciA9IGNhbGxiYWNrKHJvdyk7CiAgICAgICAgICAgICAgICAgICAgbWFya2VyLmFkZFRvKGNsdXN0ZXIpOwogICAgICAgICAgICAgICAgfQoKICAgICAgICAgICAgICAgIGNsdXN0ZXIuYWRkVG8obWFwXzFmZjQ0NzRiNDYxODQ5MzlhYTljZTU0YjEwNTk2M2M1KTsKICAgICAgICAgICAgICAgIHJldHVybiBjbHVzdGVyOwogICAgICAgICAgICB9KSgpOwogICAgICAgICAgICAKICAgIAogICAgICAgICAgICB2YXIgbGF5ZXJfY29udHJvbF84ODg0NThjODQ1ZDk0ZGVmOWYzNTE3ZWUwYWNiZGJjNyA9IHsKICAgICAgICAgICAgICAgIGJhc2VfbGF5ZXJzIDogeyAib3BlbnN0cmVldG1hcCIgOiB0aWxlX2xheWVyX2E1ZTVkMjlhOWZhZTQzNTQ5ZTNkZjgzMjBjYTczMjVjLCB9LAogICAgICAgICAgICAgICAgb3ZlcmxheXMgOiB7ICJtYWNyb19lbGVtZW50Xzk3MTkzNjRlZWIzOTRkMmZhZGZiOGE4MDM4ODA4YjQ4IiA6IGZhc3RfbWFya2VyX2NsdXN0ZXJfOTcxOTM2NGVlYjM5NGQyZmFkZmI4YTgwMzg4MDhiNDgsIm1hY3JvX2VsZW1lbnRfZWExYjhmYTAyODQzNGIyZDk1MjViMzA5NjZjZTJkZDQiIDogZmFzdF9tYXJrZXJfY2x1c3Rlcl9lYTFiOGZhMDI4NDM0YjJkOTUyNWIzMDk2NmNlMmRkNCwgfQogICAgICAgICAgICAgICAgfTsKICAgICAgICAgICAgTC5jb250cm9sLmxheWVycygKICAgICAgICAgICAgICAgIGxheWVyX2NvbnRyb2xfODg4NDU4Yzg0NWQ5NGRlZjlmMzUxN2VlMGFjYmRiYzcuYmFzZV9sYXllcnMsCiAgICAgICAgICAgICAgICBsYXllcl9jb250cm9sXzg4ODQ1OGM4NDVkOTRkZWY5ZjM1MTdlZTBhY2JkYmM3Lm92ZXJsYXlzLAogICAgICAgICAgICAgICAge3Bvc2l0aW9uOiAndG9wcmlnaHQnLAogICAgICAgICAgICAgICAgIGNvbGxhcHNlZDogdHJ1ZSwKICAgICAgICAgICAgICAgICBhdXRvWkluZGV4OiB0cnVlCiAgICAgICAgICAgICAgICB9KS5hZGRUbyhtYXBfMWZmNDQ3NGI0NjE4NDkzOWFhOWNlNTRiMTA1OTYzYzUpOwogICAgICAgICAgICAKICAgICAgICAKICAgIAoKICAgICAgICAgICAgdmFyIGZhc3RfbWFya2VyX2NsdXN0ZXJfZWExYjhmYTAyODQzNGIyZDk1MjViMzA5NjZjZTJkZDQgPSAoZnVuY3Rpb24oKXsKICAgICAgICAgICAgICAgIHZhciBjYWxsYmFjayA9IApmdW5jdGlvbiAocm93KSB7CiAgLy8gR2V0IHRoZSBjaGVja2JveAogICAvLyB2YXIgY2hlY2tCb3ggPSBkb2N1bWVudC5nZXRFbGVtZW50QnlJZCgibXlDaGVjayIpOwogICAgdmFyIG1hcmtlciA9IEwubWFya2VyKG5ldyBMLkxhdExuZyhyb3dbMF0sIHJvd1sxXSkpCiAgICB2YXIgcG9wdXAgPSBMLnBvcHVwKCkuc2V0Q29udGVudChzdHJpbmcocm93WzBdKSk7CiAgICBtYXJrZXIuYmluZFBvcHVwKHBvcHVwKTsKICAgIHJldHVybiBtYXJrZXI7CiAgICB9CjsKCiAgICAgICAgICAgICAgICB2YXIgZGF0YSA9IFtbNTAuNDE0MDgwNjUzNDA1MDE2LCA0LjQwOTMzMzAwNjMwMTQ3OF0sIFs1MC40MTQwNjkxMzIyMzEwMiwgNC40MDkzNzExMjU1ODY4MV0sIFs1MC40MTQwOTAyNTM5MTQyOCwgNC40MDkzODY5MDIyMTgwODNdLCBbNTAuNDE0MTExMjg1NzQxOTk2LCA0LjQwOTQwMjUzODA4NjQ1XSwgWzUwLjQxNDEwOTQxMDcyODMxNSwgNC40MDkzNjYwOTU0OTg4NDY1XSwgWzUwLjQxNDEwNzUzNTcwMzIzLCA0LjQwOTMyOTY1MjkxNDEyNV0sIFs1MC40MTQwOTYwMTQ1MzAzOTQsIDQuNDA5MzY3NzcyMjIxODddLCBbNTAuNDE0MDgxOTAzNDA1NjQsIDQuNDA5MzU3MzQ4MjQzNDc0XSwgWzUwLjQxNDA4MzE1MzQwMTE5NCwgNC40MDkzODE2OTAxODY3NTU1XSwgWzUwLjQxNDEwMzY1MDE2MjUsIDQuNDA5Mzg1MDg0ODAyMDZdLCBbNTAuNDE0MTE3MTM2MjY0MDIsIDQuNDA5MzgzNDA4MTYxOTQ0XSwgWzUwLjQxNDEwODc4NTcwNDU1NiwgNC40MDkzNTM5OTQ4Njk4MjVdLCBbNTAuNDE0MDk0NzY0NTMxOTQ2LCA0LjQwOTM0MzQzMDI3MjM1OV0sIFs1MC40MTQxMTAwMzU3NTA4MjQsIDQuNDA5Mzc4MTk2MTI4MTg3XSwgWzUwLjQxNDA4ODM3ODg5NTY4NCwgNC40MDkzNTA0NTk2NDcyNTM1XSwgWzUwLjQxNDExNTI2MTI0NDMzLCA0LjQwOTM0Njk2NTU3MDYwNF0sIFs1MC40MTQwNzk5MzkxMjM3OSwgNC40MDkzMTkwNzY1MjExMjJdLCBbNTAuNDE0MDcyNTY0MjUyNDksIDQuNDA5MzI2OTQ5MjI4MTk3NV1dOwogICAgICAgICAgICAgICAgdmFyIGNsdXN0ZXIgPSBMLm1hcmtlckNsdXN0ZXJHcm91cCh7fSk7CgogICAgICAgICAgICAgICAgZm9yICh2YXIgaSA9IDA7IGkgPCBkYXRhLmxlbmd0aDsgaSsrKSB7CiAgICAgICAgICAgICAgICAgICAgdmFyIHJvdyA9IGRhdGFbaV07CiAgICAgICAgICAgICAgICAgICAgdmFyIG1hcmtlciA9IGNhbGxiYWNrKHJvdyk7CiAgICAgICAgICAgICAgICAgICAgbWFya2VyLmFkZFRvKGNsdXN0ZXIpOwogICAgICAgICAgICAgICAgfQoKICAgICAgICAgICAgICAgIGNsdXN0ZXIuYWRkVG8obWFwXzFmZjQ0NzRiNDYxODQ5MzlhYTljZTU0YjEwNTk2M2M1KTsKICAgICAgICAgICAgICAgIHJldHVybiBjbHVzdGVyOwogICAgICAgICAgICB9KSgpOwogICAgICAgICAgICAKICAgIAogICAgICAgICAgICB2YXIgbGF5ZXJfY29udHJvbF9kMDE2ZWUyZDA1ZTg0NmJkYmJlYmM1YzRmM2ZiOWVjMCA9IHsKICAgICAgICAgICAgICAgIGJhc2VfbGF5ZXJzIDogeyAib3BlbnN0cmVldG1hcCIgOiB0aWxlX2xheWVyX2E1ZTVkMjlhOWZhZTQzNTQ5ZTNkZjgzMjBjYTczMjVjLCB9LAogICAgICAgICAgICAgICAgb3ZlcmxheXMgOiB7ICJtYWNyb19lbGVtZW50Xzk3MTkzNjRlZWIzOTRkMmZhZGZiOGE4MDM4ODA4YjQ4IiA6IGZhc3RfbWFya2VyX2NsdXN0ZXJfOTcxOTM2NGVlYjM5NGQyZmFkZmI4YTgwMzg4MDhiNDgsIm1hY3JvX2VsZW1lbnRfZWExYjhmYTAyODQzNGIyZDk1MjViMzA5NjZjZTJkZDQiIDogZmFzdF9tYXJrZXJfY2x1c3Rlcl9lYTFiOGZhMDI4NDM0YjJkOTUyNWIzMDk2NmNlMmRkNCwgfQogICAgICAgICAgICAgICAgfTsKICAgICAgICAgICAgTC5jb250cm9sLmxheWVycygKICAgICAgICAgICAgICAgIGxheWVyX2NvbnRyb2xfZDAxNmVlMmQwNWU4NDZiZGJiZWJjNWM0ZjNmYjllYzAuYmFzZV9sYXllcnMsCiAgICAgICAgICAgICAgICBsYXllcl9jb250cm9sX2QwMTZlZTJkMDVlODQ2YmRiYmViYzVjNGYzZmI5ZWMwLm92ZXJsYXlzLAogICAgICAgICAgICAgICAge3Bvc2l0aW9uOiAndG9wcmlnaHQnLAogICAgICAgICAgICAgICAgIGNvbGxhcHNlZDogdHJ1ZSwKICAgICAgICAgICAgICAgICBhdXRvWkluZGV4OiB0cnVlCiAgICAgICAgICAgICAgICB9KS5hZGRUbyhtYXBfMWZmNDQ3NGI0NjE4NDkzOWFhOWNlNTRiMTA1OTYzYzUpOwogICAgICAgICAgICAKICAgICAgICAKPC9zY3JpcHQ+\" style=\"position:absolute;width:100%;height:100%;left:0;top:0;border:none !important;\" allowfullscreen webkitallowfullscreen mozallowfullscreen></iframe></div></div>"
      ],
      "text/plain": [
       "<folium.folium.Map at 0x7f75a5fd9e80>"
      ]
     },
     "execution_count": 44,
     "metadata": {},
     "output_type": "execute_result"
    }
   ],
   "source": [
    "mc =FastMarkerCluster(pop,callback=callback).add_to(m24)\n",
    "#folium.Marker(pop,popup='P2').add_to(m24)\n",
    "#folium.Marker([y1,x1],popup= 'P1').add_to(m24)\n",
    "folium.LayerControl().add_to(m24)\n",
    "m24"
   ]
  },
  {
   "cell_type": "code",
   "execution_count": null,
   "metadata": {},
   "outputs": [],
   "source": []
  },
  {
   "cell_type": "code",
   "execution_count": null,
   "metadata": {},
   "outputs": [],
   "source": []
  },
  {
   "cell_type": "code",
   "execution_count": null,
   "metadata": {},
   "outputs": [],
   "source": []
  },
  {
   "cell_type": "code",
   "execution_count": null,
   "metadata": {},
   "outputs": [],
   "source": []
  },
  {
   "cell_type": "code",
   "execution_count": null,
   "metadata": {},
   "outputs": [],
   "source": []
  },
  {
   "cell_type": "code",
   "execution_count": null,
   "metadata": {},
   "outputs": [],
   "source": []
  },
  {
   "cell_type": "code",
   "execution_count": null,
   "metadata": {},
   "outputs": [],
   "source": []
  },
  {
   "cell_type": "code",
   "execution_count": null,
   "metadata": {},
   "outputs": [],
   "source": []
  },
  {
   "cell_type": "code",
   "execution_count": 45,
   "metadata": {},
   "outputs": [],
   "source": [
    "%matplotlib notebook\n"
   ]
  },
  {
   "cell_type": "code",
   "execution_count": 46,
   "metadata": {
    "scrolled": false
   },
   "outputs": [
    {
     "name": "stdout",
     "output_type": "stream",
     "text": [
      "Total: 180 GB\n",
      "Used: 60 GB\n",
      "Free: 110 GB\n"
     ]
    },
    {
     "data": {
      "application/javascript": [
       "/* Put everything inside the global mpl namespace */\n",
       "window.mpl = {};\n",
       "\n",
       "mpl.get_websocket_type = function() {\n",
       "    if (typeof(WebSocket) !== 'undefined') {\n",
       "        return WebSocket;\n",
       "    } else if (typeof(MozWebSocket) !== 'undefined') {\n",
       "        return MozWebSocket;\n",
       "    } else {\n",
       "        alert('Your browser does not have WebSocket support.' +\n",
       "              'Please try Chrome, Safari or Firefox ≥ 6. ' +\n",
       "              'Firefox 4 and 5 are also supported but you ' +\n",
       "              'have to enable WebSockets in about:config.');\n",
       "    };\n",
       "}\n",
       "\n",
       "mpl.figure = function(figure_id, websocket, ondownload, parent_element) {\n",
       "    this.id = figure_id;\n",
       "\n",
       "    this.ws = websocket;\n",
       "\n",
       "    this.supports_binary = (this.ws.binaryType != undefined);\n",
       "\n",
       "    if (!this.supports_binary) {\n",
       "        var warnings = document.getElementById(\"mpl-warnings\");\n",
       "        if (warnings) {\n",
       "            warnings.style.display = 'block';\n",
       "            warnings.textContent = (\n",
       "                \"This browser does not support binary websocket messages. \" +\n",
       "                    \"Performance may be slow.\");\n",
       "        }\n",
       "    }\n",
       "\n",
       "    this.imageObj = new Image();\n",
       "\n",
       "    this.context = undefined;\n",
       "    this.message = undefined;\n",
       "    this.canvas = undefined;\n",
       "    this.rubberband_canvas = undefined;\n",
       "    this.rubberband_context = undefined;\n",
       "    this.format_dropdown = undefined;\n",
       "\n",
       "    this.image_mode = 'full';\n",
       "\n",
       "    this.root = $('<div/>');\n",
       "    this._root_extra_style(this.root)\n",
       "    this.root.attr('style', 'display: inline-block');\n",
       "\n",
       "    $(parent_element).append(this.root);\n",
       "\n",
       "    this._init_header(this);\n",
       "    this._init_canvas(this);\n",
       "    this._init_toolbar(this);\n",
       "\n",
       "    var fig = this;\n",
       "\n",
       "    this.waiting = false;\n",
       "\n",
       "    this.ws.onopen =  function () {\n",
       "            fig.send_message(\"supports_binary\", {value: fig.supports_binary});\n",
       "            fig.send_message(\"send_image_mode\", {});\n",
       "            fig.send_message(\"refresh\", {});\n",
       "        }\n",
       "\n",
       "    this.imageObj.onload = function() {\n",
       "            if (fig.image_mode == 'full') {\n",
       "                // Full images could contain transparency (where diff images\n",
       "                // almost always do), so we need to clear the canvas so that\n",
       "                // there is no ghosting.\n",
       "                fig.context.clearRect(0, 0, fig.canvas.width, fig.canvas.height);\n",
       "            }\n",
       "            fig.context.drawImage(fig.imageObj, 0, 0);\n",
       "        };\n",
       "\n",
       "    this.imageObj.onunload = function() {\n",
       "        this.ws.close();\n",
       "    }\n",
       "\n",
       "    this.ws.onmessage = this._make_on_message_function(this);\n",
       "\n",
       "    this.ondownload = ondownload;\n",
       "}\n",
       "\n",
       "mpl.figure.prototype._init_header = function() {\n",
       "    var titlebar = $(\n",
       "        '<div class=\"ui-dialog-titlebar ui-widget-header ui-corner-all ' +\n",
       "        'ui-helper-clearfix\"/>');\n",
       "    var titletext = $(\n",
       "        '<div class=\"ui-dialog-title\" style=\"width: 100%; ' +\n",
       "        'text-align: center; padding: 3px;\"/>');\n",
       "    titlebar.append(titletext)\n",
       "    this.root.append(titlebar);\n",
       "    this.header = titletext[0];\n",
       "}\n",
       "\n",
       "\n",
       "\n",
       "mpl.figure.prototype._canvas_extra_style = function(canvas_div) {\n",
       "\n",
       "}\n",
       "\n",
       "\n",
       "mpl.figure.prototype._root_extra_style = function(canvas_div) {\n",
       "\n",
       "}\n",
       "\n",
       "mpl.figure.prototype._init_canvas = function() {\n",
       "    var fig = this;\n",
       "\n",
       "    var canvas_div = $('<div/>');\n",
       "\n",
       "    canvas_div.attr('style', 'position: relative; clear: both; outline: 0');\n",
       "\n",
       "    function canvas_keyboard_event(event) {\n",
       "        return fig.key_event(event, event['data']);\n",
       "    }\n",
       "\n",
       "    canvas_div.keydown('key_press', canvas_keyboard_event);\n",
       "    canvas_div.keyup('key_release', canvas_keyboard_event);\n",
       "    this.canvas_div = canvas_div\n",
       "    this._canvas_extra_style(canvas_div)\n",
       "    this.root.append(canvas_div);\n",
       "\n",
       "    var canvas = $('<canvas/>');\n",
       "    canvas.addClass('mpl-canvas');\n",
       "    canvas.attr('style', \"left: 0; top: 0; z-index: 0; outline: 0\")\n",
       "\n",
       "    this.canvas = canvas[0];\n",
       "    this.context = canvas[0].getContext(\"2d\");\n",
       "\n",
       "    var rubberband = $('<canvas/>');\n",
       "    rubberband.attr('style', \"position: absolute; left: 0; top: 0; z-index: 1;\")\n",
       "\n",
       "    var pass_mouse_events = true;\n",
       "\n",
       "    canvas_div.resizable({\n",
       "        start: function(event, ui) {\n",
       "            pass_mouse_events = false;\n",
       "        },\n",
       "        resize: function(event, ui) {\n",
       "            fig.request_resize(ui.size.width, ui.size.height);\n",
       "        },\n",
       "        stop: function(event, ui) {\n",
       "            pass_mouse_events = true;\n",
       "            fig.request_resize(ui.size.width, ui.size.height);\n",
       "        },\n",
       "    });\n",
       "\n",
       "    function mouse_event_fn(event) {\n",
       "        if (pass_mouse_events)\n",
       "            return fig.mouse_event(event, event['data']);\n",
       "    }\n",
       "\n",
       "    rubberband.mousedown('button_press', mouse_event_fn);\n",
       "    rubberband.mouseup('button_release', mouse_event_fn);\n",
       "    // Throttle sequential mouse events to 1 every 20ms.\n",
       "    rubberband.mousemove('motion_notify', mouse_event_fn);\n",
       "\n",
       "    rubberband.mouseenter('figure_enter', mouse_event_fn);\n",
       "    rubberband.mouseleave('figure_leave', mouse_event_fn);\n",
       "\n",
       "    canvas_div.on(\"wheel\", function (event) {\n",
       "        event = event.originalEvent;\n",
       "        event['data'] = 'scroll'\n",
       "        if (event.deltaY < 0) {\n",
       "            event.step = 1;\n",
       "        } else {\n",
       "            event.step = -1;\n",
       "        }\n",
       "        mouse_event_fn(event);\n",
       "    });\n",
       "\n",
       "    canvas_div.append(canvas);\n",
       "    canvas_div.append(rubberband);\n",
       "\n",
       "    this.rubberband = rubberband;\n",
       "    this.rubberband_canvas = rubberband[0];\n",
       "    this.rubberband_context = rubberband[0].getContext(\"2d\");\n",
       "    this.rubberband_context.strokeStyle = \"#000000\";\n",
       "\n",
       "    this._resize_canvas = function(width, height) {\n",
       "        // Keep the size of the canvas, canvas container, and rubber band\n",
       "        // canvas in synch.\n",
       "        canvas_div.css('width', width)\n",
       "        canvas_div.css('height', height)\n",
       "\n",
       "        canvas.attr('width', width);\n",
       "        canvas.attr('height', height);\n",
       "\n",
       "        rubberband.attr('width', width);\n",
       "        rubberband.attr('height', height);\n",
       "    }\n",
       "\n",
       "    // Set the figure to an initial 600x600px, this will subsequently be updated\n",
       "    // upon first draw.\n",
       "    this._resize_canvas(600, 600);\n",
       "\n",
       "    // Disable right mouse context menu.\n",
       "    $(this.rubberband_canvas).bind(\"contextmenu\",function(e){\n",
       "        return false;\n",
       "    });\n",
       "\n",
       "    function set_focus () {\n",
       "        canvas.focus();\n",
       "        canvas_div.focus();\n",
       "    }\n",
       "\n",
       "    window.setTimeout(set_focus, 100);\n",
       "}\n",
       "\n",
       "mpl.figure.prototype._init_toolbar = function() {\n",
       "    var fig = this;\n",
       "\n",
       "    var nav_element = $('<div/>')\n",
       "    nav_element.attr('style', 'width: 100%');\n",
       "    this.root.append(nav_element);\n",
       "\n",
       "    // Define a callback function for later on.\n",
       "    function toolbar_event(event) {\n",
       "        return fig.toolbar_button_onclick(event['data']);\n",
       "    }\n",
       "    function toolbar_mouse_event(event) {\n",
       "        return fig.toolbar_button_onmouseover(event['data']);\n",
       "    }\n",
       "\n",
       "    for(var toolbar_ind in mpl.toolbar_items) {\n",
       "        var name = mpl.toolbar_items[toolbar_ind][0];\n",
       "        var tooltip = mpl.toolbar_items[toolbar_ind][1];\n",
       "        var image = mpl.toolbar_items[toolbar_ind][2];\n",
       "        var method_name = mpl.toolbar_items[toolbar_ind][3];\n",
       "\n",
       "        if (!name) {\n",
       "            // put a spacer in here.\n",
       "            continue;\n",
       "        }\n",
       "        var button = $('<button/>');\n",
       "        button.addClass('ui-button ui-widget ui-state-default ui-corner-all ' +\n",
       "                        'ui-button-icon-only');\n",
       "        button.attr('role', 'button');\n",
       "        button.attr('aria-disabled', 'false');\n",
       "        button.click(method_name, toolbar_event);\n",
       "        button.mouseover(tooltip, toolbar_mouse_event);\n",
       "\n",
       "        var icon_img = $('<span/>');\n",
       "        icon_img.addClass('ui-button-icon-primary ui-icon');\n",
       "        icon_img.addClass(image);\n",
       "        icon_img.addClass('ui-corner-all');\n",
       "\n",
       "        var tooltip_span = $('<span/>');\n",
       "        tooltip_span.addClass('ui-button-text');\n",
       "        tooltip_span.html(tooltip);\n",
       "\n",
       "        button.append(icon_img);\n",
       "        button.append(tooltip_span);\n",
       "\n",
       "        nav_element.append(button);\n",
       "    }\n",
       "\n",
       "    var fmt_picker_span = $('<span/>');\n",
       "\n",
       "    var fmt_picker = $('<select/>');\n",
       "    fmt_picker.addClass('mpl-toolbar-option ui-widget ui-widget-content');\n",
       "    fmt_picker_span.append(fmt_picker);\n",
       "    nav_element.append(fmt_picker_span);\n",
       "    this.format_dropdown = fmt_picker[0];\n",
       "\n",
       "    for (var ind in mpl.extensions) {\n",
       "        var fmt = mpl.extensions[ind];\n",
       "        var option = $(\n",
       "            '<option/>', {selected: fmt === mpl.default_extension}).html(fmt);\n",
       "        fmt_picker.append(option)\n",
       "    }\n",
       "\n",
       "    // Add hover states to the ui-buttons\n",
       "    $( \".ui-button\" ).hover(\n",
       "        function() { $(this).addClass(\"ui-state-hover\");},\n",
       "        function() { $(this).removeClass(\"ui-state-hover\");}\n",
       "    );\n",
       "\n",
       "    var status_bar = $('<span class=\"mpl-message\"/>');\n",
       "    nav_element.append(status_bar);\n",
       "    this.message = status_bar[0];\n",
       "}\n",
       "\n",
       "mpl.figure.prototype.request_resize = function(x_pixels, y_pixels) {\n",
       "    // Request matplotlib to resize the figure. Matplotlib will then trigger a resize in the client,\n",
       "    // which will in turn request a refresh of the image.\n",
       "    this.send_message('resize', {'width': x_pixels, 'height': y_pixels});\n",
       "}\n",
       "\n",
       "mpl.figure.prototype.send_message = function(type, properties) {\n",
       "    properties['type'] = type;\n",
       "    properties['figure_id'] = this.id;\n",
       "    this.ws.send(JSON.stringify(properties));\n",
       "}\n",
       "\n",
       "mpl.figure.prototype.send_draw_message = function() {\n",
       "    if (!this.waiting) {\n",
       "        this.waiting = true;\n",
       "        this.ws.send(JSON.stringify({type: \"draw\", figure_id: this.id}));\n",
       "    }\n",
       "}\n",
       "\n",
       "\n",
       "mpl.figure.prototype.handle_save = function(fig, msg) {\n",
       "    var format_dropdown = fig.format_dropdown;\n",
       "    var format = format_dropdown.options[format_dropdown.selectedIndex].value;\n",
       "    fig.ondownload(fig, format);\n",
       "}\n",
       "\n",
       "\n",
       "mpl.figure.prototype.handle_resize = function(fig, msg) {\n",
       "    var size = msg['size'];\n",
       "    if (size[0] != fig.canvas.width || size[1] != fig.canvas.height) {\n",
       "        fig._resize_canvas(size[0], size[1]);\n",
       "        fig.send_message(\"refresh\", {});\n",
       "    };\n",
       "}\n",
       "\n",
       "mpl.figure.prototype.handle_rubberband = function(fig, msg) {\n",
       "    var x0 = msg['x0'];\n",
       "    var y0 = fig.canvas.height - msg['y0'];\n",
       "    var x1 = msg['x1'];\n",
       "    var y1 = fig.canvas.height - msg['y1'];\n",
       "    x0 = Math.floor(x0) + 0.5;\n",
       "    y0 = Math.floor(y0) + 0.5;\n",
       "    x1 = Math.floor(x1) + 0.5;\n",
       "    y1 = Math.floor(y1) + 0.5;\n",
       "    var min_x = Math.min(x0, x1);\n",
       "    var min_y = Math.min(y0, y1);\n",
       "    var width = Math.abs(x1 - x0);\n",
       "    var height = Math.abs(y1 - y0);\n",
       "\n",
       "    fig.rubberband_context.clearRect(\n",
       "        0, 0, fig.canvas.width, fig.canvas.height);\n",
       "\n",
       "    fig.rubberband_context.strokeRect(min_x, min_y, width, height);\n",
       "}\n",
       "\n",
       "mpl.figure.prototype.handle_figure_label = function(fig, msg) {\n",
       "    // Updates the figure title.\n",
       "    fig.header.textContent = msg['label'];\n",
       "}\n",
       "\n",
       "mpl.figure.prototype.handle_cursor = function(fig, msg) {\n",
       "    var cursor = msg['cursor'];\n",
       "    switch(cursor)\n",
       "    {\n",
       "    case 0:\n",
       "        cursor = 'pointer';\n",
       "        break;\n",
       "    case 1:\n",
       "        cursor = 'default';\n",
       "        break;\n",
       "    case 2:\n",
       "        cursor = 'crosshair';\n",
       "        break;\n",
       "    case 3:\n",
       "        cursor = 'move';\n",
       "        break;\n",
       "    }\n",
       "    fig.rubberband_canvas.style.cursor = cursor;\n",
       "}\n",
       "\n",
       "mpl.figure.prototype.handle_message = function(fig, msg) {\n",
       "    fig.message.textContent = msg['message'];\n",
       "}\n",
       "\n",
       "mpl.figure.prototype.handle_draw = function(fig, msg) {\n",
       "    // Request the server to send over a new figure.\n",
       "    fig.send_draw_message();\n",
       "}\n",
       "\n",
       "mpl.figure.prototype.handle_image_mode = function(fig, msg) {\n",
       "    fig.image_mode = msg['mode'];\n",
       "}\n",
       "\n",
       "mpl.figure.prototype.updated_canvas_event = function() {\n",
       "    // Called whenever the canvas gets updated.\n",
       "    this.send_message(\"ack\", {});\n",
       "}\n",
       "\n",
       "// A function to construct a web socket function for onmessage handling.\n",
       "// Called in the figure constructor.\n",
       "mpl.figure.prototype._make_on_message_function = function(fig) {\n",
       "    return function socket_on_message(evt) {\n",
       "        if (evt.data instanceof Blob) {\n",
       "            /* FIXME: We get \"Resource interpreted as Image but\n",
       "             * transferred with MIME type text/plain:\" errors on\n",
       "             * Chrome.  But how to set the MIME type?  It doesn't seem\n",
       "             * to be part of the websocket stream */\n",
       "            evt.data.type = \"image/png\";\n",
       "\n",
       "            /* Free the memory for the previous frames */\n",
       "            if (fig.imageObj.src) {\n",
       "                (window.URL || window.webkitURL).revokeObjectURL(\n",
       "                    fig.imageObj.src);\n",
       "            }\n",
       "\n",
       "            fig.imageObj.src = (window.URL || window.webkitURL).createObjectURL(\n",
       "                evt.data);\n",
       "            fig.updated_canvas_event();\n",
       "            fig.waiting = false;\n",
       "            return;\n",
       "        }\n",
       "        else if (typeof evt.data === 'string' && evt.data.slice(0, 21) == \"data:image/png;base64\") {\n",
       "            fig.imageObj.src = evt.data;\n",
       "            fig.updated_canvas_event();\n",
       "            fig.waiting = false;\n",
       "            return;\n",
       "        }\n",
       "\n",
       "        var msg = JSON.parse(evt.data);\n",
       "        var msg_type = msg['type'];\n",
       "\n",
       "        // Call the  \"handle_{type}\" callback, which takes\n",
       "        // the figure and JSON message as its only arguments.\n",
       "        try {\n",
       "            var callback = fig[\"handle_\" + msg_type];\n",
       "        } catch (e) {\n",
       "            console.log(\"No handler for the '\" + msg_type + \"' message type: \", msg);\n",
       "            return;\n",
       "        }\n",
       "\n",
       "        if (callback) {\n",
       "            try {\n",
       "                // console.log(\"Handling '\" + msg_type + \"' message: \", msg);\n",
       "                callback(fig, msg);\n",
       "            } catch (e) {\n",
       "                console.log(\"Exception inside the 'handler_\" + msg_type + \"' callback:\", e, e.stack, msg);\n",
       "            }\n",
       "        }\n",
       "    };\n",
       "}\n",
       "\n",
       "// from http://stackoverflow.com/questions/1114465/getting-mouse-location-in-canvas\n",
       "mpl.findpos = function(e) {\n",
       "    //this section is from http://www.quirksmode.org/js/events_properties.html\n",
       "    var targ;\n",
       "    if (!e)\n",
       "        e = window.event;\n",
       "    if (e.target)\n",
       "        targ = e.target;\n",
       "    else if (e.srcElement)\n",
       "        targ = e.srcElement;\n",
       "    if (targ.nodeType == 3) // defeat Safari bug\n",
       "        targ = targ.parentNode;\n",
       "\n",
       "    // jQuery normalizes the pageX and pageY\n",
       "    // pageX,Y are the mouse positions relative to the document\n",
       "    // offset() returns the position of the element relative to the document\n",
       "    var x = e.pageX - $(targ).offset().left;\n",
       "    var y = e.pageY - $(targ).offset().top;\n",
       "\n",
       "    return {\"x\": x, \"y\": y};\n",
       "};\n",
       "\n",
       "/*\n",
       " * return a copy of an object with only non-object keys\n",
       " * we need this to avoid circular references\n",
       " * http://stackoverflow.com/a/24161582/3208463\n",
       " */\n",
       "function simpleKeys (original) {\n",
       "  return Object.keys(original).reduce(function (obj, key) {\n",
       "    if (typeof original[key] !== 'object')\n",
       "        obj[key] = original[key]\n",
       "    return obj;\n",
       "  }, {});\n",
       "}\n",
       "\n",
       "mpl.figure.prototype.mouse_event = function(event, name) {\n",
       "    var canvas_pos = mpl.findpos(event)\n",
       "\n",
       "    if (name === 'button_press')\n",
       "    {\n",
       "        this.canvas.focus();\n",
       "        this.canvas_div.focus();\n",
       "    }\n",
       "\n",
       "    var x = canvas_pos.x;\n",
       "    var y = canvas_pos.y;\n",
       "\n",
       "    this.send_message(name, {x: x, y: y, button: event.button,\n",
       "                             step: event.step,\n",
       "                             guiEvent: simpleKeys(event)});\n",
       "\n",
       "    /* This prevents the web browser from automatically changing to\n",
       "     * the text insertion cursor when the button is pressed.  We want\n",
       "     * to control all of the cursor setting manually through the\n",
       "     * 'cursor' event from matplotlib */\n",
       "    event.preventDefault();\n",
       "    return false;\n",
       "}\n",
       "\n",
       "mpl.figure.prototype._key_event_extra = function(event, name) {\n",
       "    // Handle any extra behaviour associated with a key event\n",
       "}\n",
       "\n",
       "mpl.figure.prototype.key_event = function(event, name) {\n",
       "\n",
       "    // Prevent repeat events\n",
       "    if (name == 'key_press')\n",
       "    {\n",
       "        if (event.which === this._key)\n",
       "            return;\n",
       "        else\n",
       "            this._key = event.which;\n",
       "    }\n",
       "    if (name == 'key_release')\n",
       "        this._key = null;\n",
       "\n",
       "    var value = '';\n",
       "    if (event.ctrlKey && event.which != 17)\n",
       "        value += \"ctrl+\";\n",
       "    if (event.altKey && event.which != 18)\n",
       "        value += \"alt+\";\n",
       "    if (event.shiftKey && event.which != 16)\n",
       "        value += \"shift+\";\n",
       "\n",
       "    value += 'k';\n",
       "    value += event.which.toString();\n",
       "\n",
       "    this._key_event_extra(event, name);\n",
       "\n",
       "    this.send_message(name, {key: value,\n",
       "                             guiEvent: simpleKeys(event)});\n",
       "    return false;\n",
       "}\n",
       "\n",
       "mpl.figure.prototype.toolbar_button_onclick = function(name) {\n",
       "    if (name == 'download') {\n",
       "        this.handle_save(this, null);\n",
       "    } else {\n",
       "        this.send_message(\"toolbar_button\", {name: name});\n",
       "    }\n",
       "};\n",
       "\n",
       "mpl.figure.prototype.toolbar_button_onmouseover = function(tooltip) {\n",
       "    this.message.textContent = tooltip;\n",
       "};\n",
       "mpl.toolbar_items = [[\"Home\", \"Reset original view\", \"fa fa-home icon-home\", \"home\"], [\"Back\", \"Back to  previous view\", \"fa fa-arrow-left icon-arrow-left\", \"back\"], [\"Forward\", \"Forward to next view\", \"fa fa-arrow-right icon-arrow-right\", \"forward\"], [\"\", \"\", \"\", \"\"], [\"Pan\", \"Pan axes with left mouse, zoom with right\", \"fa fa-arrows icon-move\", \"pan\"], [\"Zoom\", \"Zoom to rectangle\", \"fa fa-square-o icon-check-empty\", \"zoom\"], [\"\", \"\", \"\", \"\"], [\"Download\", \"Download plot\", \"fa fa-floppy-o icon-save\", \"download\"]];\n",
       "\n",
       "mpl.extensions = [\"eps\", \"jpeg\", \"pdf\", \"png\", \"ps\", \"raw\", \"svg\", \"tif\"];\n",
       "\n",
       "mpl.default_extension = \"png\";var comm_websocket_adapter = function(comm) {\n",
       "    // Create a \"websocket\"-like object which calls the given IPython comm\n",
       "    // object with the appropriate methods. Currently this is a non binary\n",
       "    // socket, so there is still some room for performance tuning.\n",
       "    var ws = {};\n",
       "\n",
       "    ws.close = function() {\n",
       "        comm.close()\n",
       "    };\n",
       "    ws.send = function(m) {\n",
       "        //console.log('sending', m);\n",
       "        comm.send(m);\n",
       "    };\n",
       "    // Register the callback with on_msg.\n",
       "    comm.on_msg(function(msg) {\n",
       "        //console.log('receiving', msg['content']['data'], msg);\n",
       "        // Pass the mpl event to the overriden (by mpl) onmessage function.\n",
       "        ws.onmessage(msg['content']['data'])\n",
       "    });\n",
       "    return ws;\n",
       "}\n",
       "\n",
       "mpl.mpl_figure_comm = function(comm, msg) {\n",
       "    // This is the function which gets called when the mpl process\n",
       "    // starts-up an IPython Comm through the \"matplotlib\" channel.\n",
       "\n",
       "    var id = msg.content.data.id;\n",
       "    // Get hold of the div created by the display call when the Comm\n",
       "    // socket was opened in Python.\n",
       "    var element = $(\"#\" + id);\n",
       "    var ws_proxy = comm_websocket_adapter(comm)\n",
       "\n",
       "    function ondownload(figure, format) {\n",
       "        window.open(figure.imageObj.src);\n",
       "    }\n",
       "\n",
       "    var fig = new mpl.figure(id, ws_proxy,\n",
       "                           ondownload,\n",
       "                           element.get(0));\n",
       "\n",
       "    // Call onopen now - mpl needs it, as it is assuming we've passed it a real\n",
       "    // web socket which is closed, not our websocket->open comm proxy.\n",
       "    ws_proxy.onopen();\n",
       "\n",
       "    fig.parent_element = element.get(0);\n",
       "    fig.cell_info = mpl.find_output_cell(\"<div id='\" + id + \"'></div>\");\n",
       "    if (!fig.cell_info) {\n",
       "        console.error(\"Failed to find cell for figure\", id, fig);\n",
       "        return;\n",
       "    }\n",
       "\n",
       "    var output_index = fig.cell_info[2]\n",
       "    var cell = fig.cell_info[0];\n",
       "\n",
       "};\n",
       "\n",
       "mpl.figure.prototype.handle_close = function(fig, msg) {\n",
       "    fig.root.unbind('remove')\n",
       "\n",
       "    // Update the output cell to use the data from the current canvas.\n",
       "    fig.push_to_output();\n",
       "    var dataURL = fig.canvas.toDataURL();\n",
       "    // Re-enable the keyboard manager in IPython - without this line, in FF,\n",
       "    // the notebook keyboard shortcuts fail.\n",
       "    IPython.keyboard_manager.enable()\n",
       "    $(fig.parent_element).html('<img src=\"' + dataURL + '\">');\n",
       "    fig.close_ws(fig, msg);\n",
       "}\n",
       "\n",
       "mpl.figure.prototype.close_ws = function(fig, msg){\n",
       "    fig.send_message('closing', msg);\n",
       "    // fig.ws.close()\n",
       "}\n",
       "\n",
       "mpl.figure.prototype.push_to_output = function(remove_interactive) {\n",
       "    // Turn the data on the canvas into data in the output cell.\n",
       "    var dataURL = this.canvas.toDataURL();\n",
       "    this.cell_info[1]['text/html'] = '<img src=\"' + dataURL + '\">';\n",
       "}\n",
       "\n",
       "mpl.figure.prototype.updated_canvas_event = function() {\n",
       "    // Tell IPython that the notebook contents must change.\n",
       "    IPython.notebook.set_dirty(true);\n",
       "    this.send_message(\"ack\", {});\n",
       "    var fig = this;\n",
       "    // Wait a second, then push the new image to the DOM so\n",
       "    // that it is saved nicely (might be nice to debounce this).\n",
       "    setTimeout(function () { fig.push_to_output() }, 1000);\n",
       "}\n",
       "\n",
       "mpl.figure.prototype._init_toolbar = function() {\n",
       "    var fig = this;\n",
       "\n",
       "    var nav_element = $('<div/>')\n",
       "    nav_element.attr('style', 'width: 100%');\n",
       "    this.root.append(nav_element);\n",
       "\n",
       "    // Define a callback function for later on.\n",
       "    function toolbar_event(event) {\n",
       "        return fig.toolbar_button_onclick(event['data']);\n",
       "    }\n",
       "    function toolbar_mouse_event(event) {\n",
       "        return fig.toolbar_button_onmouseover(event['data']);\n",
       "    }\n",
       "\n",
       "    for(var toolbar_ind in mpl.toolbar_items){\n",
       "        var name = mpl.toolbar_items[toolbar_ind][0];\n",
       "        var tooltip = mpl.toolbar_items[toolbar_ind][1];\n",
       "        var image = mpl.toolbar_items[toolbar_ind][2];\n",
       "        var method_name = mpl.toolbar_items[toolbar_ind][3];\n",
       "\n",
       "        if (!name) { continue; };\n",
       "\n",
       "        var button = $('<button class=\"btn btn-default\" href=\"#\" title=\"' + name + '\"><i class=\"fa ' + image + ' fa-lg\"></i></button>');\n",
       "        button.click(method_name, toolbar_event);\n",
       "        button.mouseover(tooltip, toolbar_mouse_event);\n",
       "        nav_element.append(button);\n",
       "    }\n",
       "\n",
       "    // Add the status bar.\n",
       "    var status_bar = $('<span class=\"mpl-message\" style=\"text-align:right; float: right;\"/>');\n",
       "    nav_element.append(status_bar);\n",
       "    this.message = status_bar[0];\n",
       "\n",
       "    // Add the close button to the window.\n",
       "    var buttongrp = $('<div class=\"btn-group inline pull-right\"></div>');\n",
       "    var button = $('<button class=\"btn btn-mini btn-primary\" href=\"#\" title=\"Stop Interaction\"><i class=\"fa fa-power-off icon-remove icon-large\"></i></button>');\n",
       "    button.click(function (evt) { fig.handle_close(fig, {}); } );\n",
       "    button.mouseover('Stop Interaction', toolbar_mouse_event);\n",
       "    buttongrp.append(button);\n",
       "    var titlebar = this.root.find($('.ui-dialog-titlebar'));\n",
       "    titlebar.prepend(buttongrp);\n",
       "}\n",
       "\n",
       "mpl.figure.prototype._root_extra_style = function(el){\n",
       "    var fig = this\n",
       "    el.on(\"remove\", function(){\n",
       "\tfig.close_ws(fig, {});\n",
       "    });\n",
       "}\n",
       "\n",
       "mpl.figure.prototype._canvas_extra_style = function(el){\n",
       "    // this is important to make the div 'focusable\n",
       "    el.attr('tabindex', 0)\n",
       "    // reach out to IPython and tell the keyboard manager to turn it's self\n",
       "    // off when our div gets focus\n",
       "\n",
       "    // location in version 3\n",
       "    if (IPython.notebook.keyboard_manager) {\n",
       "        IPython.notebook.keyboard_manager.register_events(el);\n",
       "    }\n",
       "    else {\n",
       "        // location in version 2\n",
       "        IPython.keyboard_manager.register_events(el);\n",
       "    }\n",
       "\n",
       "}\n",
       "\n",
       "mpl.figure.prototype._key_event_extra = function(event, name) {\n",
       "    var manager = IPython.notebook.keyboard_manager;\n",
       "    if (!manager)\n",
       "        manager = IPython.keyboard_manager;\n",
       "\n",
       "    // Check for shift+enter\n",
       "    if (event.shiftKey && event.which == 13) {\n",
       "        this.canvas_div.blur();\n",
       "        event.shiftKey = false;\n",
       "        // Send a \"J\" for go to next cell\n",
       "        event.which = 74;\n",
       "        event.keyCode = 74;\n",
       "        manager.command_mode();\n",
       "        manager.handle_keydown(event);\n",
       "    }\n",
       "}\n",
       "\n",
       "mpl.figure.prototype.handle_save = function(fig, msg) {\n",
       "    fig.ondownload(fig, null);\n",
       "}\n",
       "\n",
       "\n",
       "mpl.find_output_cell = function(html_output) {\n",
       "    // Return the cell and output element which can be found *uniquely* in the notebook.\n",
       "    // Note - this is a bit hacky, but it is done because the \"notebook_saving.Notebook\"\n",
       "    // IPython event is triggered only after the cells have been serialised, which for\n",
       "    // our purposes (turning an active figure into a static one), is too late.\n",
       "    var cells = IPython.notebook.get_cells();\n",
       "    var ncells = cells.length;\n",
       "    for (var i=0; i<ncells; i++) {\n",
       "        var cell = cells[i];\n",
       "        if (cell.cell_type === 'code'){\n",
       "            for (var j=0; j<cell.output_area.outputs.length; j++) {\n",
       "                var data = cell.output_area.outputs[j];\n",
       "                if (data.data) {\n",
       "                    // IPython >= 3 moved mimebundle to data attribute of output\n",
       "                    data = data.data;\n",
       "                }\n",
       "                if (data['text/html'] == html_output) {\n",
       "                    return [cell, data, j];\n",
       "                }\n",
       "            }\n",
       "        }\n",
       "    }\n",
       "}\n",
       "\n",
       "// Register the function which deals with the matplotlib target/channel.\n",
       "// The kernel may be null if the page has been refreshed.\n",
       "if (IPython.notebook.kernel != null) {\n",
       "    IPython.notebook.kernel.comm_manager.register_target('matplotlib', mpl.mpl_figure_comm);\n",
       "}\n"
      ],
      "text/plain": [
       "<IPython.core.display.Javascript object>"
      ]
     },
     "metadata": {},
     "output_type": "display_data"
    },
    {
     "data": {
      "text/html": [
       "<img src=\"data:image/png;base64,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\">"
      ],
      "text/plain": [
       "<IPython.core.display.HTML object>"
      ]
     },
     "metadata": {},
     "output_type": "display_data"
    },
    {
     "data": {
      "text/plain": [
       "([<matplotlib.patches.Wedge at 0x7f75a18ccc88>,\n",
       "  <matplotlib.patches.Wedge at 0x7f75a18d4908>],\n",
       " [<matplotlib.text.Text at 0x7f75a18d43c8>,\n",
       "  <matplotlib.text.Text at 0x7f75a18de128>])"
      ]
     },
     "execution_count": 46,
     "metadata": {},
     "output_type": "execute_result"
    }
   ],
   "source": [
    "import shutil\n",
    "import os\n",
    "import matplotlib.pyplot as plt\n",
    "\n",
    "#os.statvfs(\"/home\")\n",
    "f = os.statvfs(\"/home\")\n",
    "#print (\"preferred block size\", \"=>\", f)\n",
    "total, used, free = shutil.disk_usage(\"/\")\n",
    "print(\"Total: %d GB\" % (total // (2**30)))\n",
    "print(\"Used: %d GB\" % (used // (2**30)))\n",
    "print(\"Free: %d GB\" % (free // (2**30)))\n",
    "\n",
    "#total//2**30\n",
    "plt.pie([ used, free],labels=[\"used\",\"free\"])"
   ]
  },
  {
   "cell_type": "code",
   "execution_count": null,
   "metadata": {},
   "outputs": [],
   "source": []
  },
  {
   "cell_type": "code",
   "execution_count": null,
   "metadata": {},
   "outputs": [],
   "source": []
  }
 ],
 "metadata": {
  "kernelspec": {
   "display_name": "Python 3.5",
   "language": "python",
   "name": "python35"
  },
  "language_info": {
   "codemirror_mode": {
    "name": "ipython",
    "version": 3
   },
   "file_extension": ".py",
   "mimetype": "text/x-python",
   "name": "python",
   "nbconvert_exporter": "python",
   "pygments_lexer": "ipython3",
   "version": "3.5.2"
  }
 },
 "nbformat": 4,
 "nbformat_minor": 2
}
